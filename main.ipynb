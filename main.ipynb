{
 "cells": [
  {
   "cell_type": "markdown",
   "id": "8c4cae49",
   "metadata": {},
   "source": [
    "# MNIST Digit Classification "
   ]
  },
  {
   "cell_type": "markdown",
   "id": "68daea27",
   "metadata": {},
   "source": [
    "imports\n"
   ]
  },
  {
   "cell_type": "code",
   "execution_count": null,
   "id": "fb447f06",
   "metadata": {},
   "outputs": [],
   "source": [
    "import numpy as np\n",
    "import matplotlib.pyplot as plt\n",
    "import seaborn as sns\n",
    "import cv2\n",
    "#Train Test Split not required as mnist is already split\n",
    "tf.random.set_seed(3)\n",
    "from PIL import Image\n",
    "import tensorflow as tf\n",
    "\n",
    "from tensorflow.keras.datasets import mnist\n",
    "from sklearn.metrics import confusion_matrix"
   ]
  },
  {
   "cell_type": "markdown",
   "id": "ca301976",
   "metadata": {},
   "source": [
    "importing dataset"
   ]
  },
  {
   "cell_type": "code",
   "execution_count": null,
   "id": "5c94fa5a",
   "metadata": {},
   "outputs": [],
   "source": [
    "((X_train, y_train), (X_test, y_test)) = mnist.load_data()"
   ]
  }
 ],
 "metadata": {
  "kernelspec": {
   "display_name": "dl_venv",
   "language": "python",
   "name": "python3"
  },
  "language_info": {
   "name": "python",
   "version": "3.12.1"
  }
 },
 "nbformat": 4,
 "nbformat_minor": 5
}
